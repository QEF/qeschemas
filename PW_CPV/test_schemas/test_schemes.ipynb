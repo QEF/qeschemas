{
 "cells": [
  {
   "cell_type": "markdown",
   "metadata": {},
   "source": [
    "Small notebook for checking schemes and QE XML output consistency with the test-suite cases.  \n",
    "For running:  \n",
    "* adapt commands in process file routine\n",
    "* in `q-e/test-suite/ENVIRONMENT`:\n",
    "  - uncomment line 13 and comment line 14 \n",
    "  - make sure that ESPRESSO_BUILD points to a directory with executables\n",
    "* install xmlschema package in your python environment. "
   ]
  },
  {
   "cell_type": "code",
   "execution_count": null,
   "metadata": {},
   "outputs": [],
   "source": [
    "from xmlschema import XMLSchema, XMLSchemaChildrenValidationError\n",
    "from xml.etree import ElementTree as et\n",
    "from pathlib import Path\n",
    "from glob import glob\n",
    "import subprocess\n",
    "import pickle"
   ]
  },
  {
   "cell_type": "code",
   "execution_count": 17,
   "metadata": {},
   "outputs": [],
   "source": [
    "schema=XMLSchema('/data/pdelugas/repositories/qeschemas/PW_CPV/test_schemas/qes_dev_250412.xsd', validation='skip')"
   ]
  },
  {
   "cell_type": "code",
   "execution_count": 18,
   "metadata": {},
   "outputs": [],
   "source": [
    "def process_file(file, arg1, directory, schema, outdir, \n",
    "\t\t\t\t stdout=subprocess.DEVNULL, stderr=subprocess.DEVNULL):\n",
    "\tinput_file = str(directory / file)\n",
    "\tprint(input_file)\n",
    "\tcommands = f\"\"\"\n",
    "\tmodule load intel/2022.2.1\n",
    "\tmodule load mkl \n",
    "\tmodule load openmpi4\n",
    "\tcd /scratch/pdelugas/qe_gitlab/test-suite/\n",
    "\tsource ENVIRONMENT\n",
    "\texport QE_USE_MPI=4\n",
    "\t/scratch/pdelugas/qe_gitlab/test-suite/run-pw.sh {arg1} {input_file} o e\n",
    "\t\"\"\"\n",
    "\tsubprocess.run(['bash', '-c', commands], stdout=stdout, stderr=stderr)\n",
    "\terrors = schema.decode(outdir / 'pwscf.xml', validation='lax')[1:]\n",
    "\tif len(errors[0]) > 0:\n",
    "\t\tprint(errors[0][0].msg)\n",
    "\t\treturn (file, errors)\n",
    "\telse:\n",
    "\t\tprint (f\"{file} run is xml ok\")\n",
    "\treturn None\n",
    "\n"
   ]
  },
  {
   "cell_type": "code",
   "execution_count": 19,
   "metadata": {},
   "outputs": [],
   "source": [
    "\n",
    "def input_args(subdir):\n",
    "\tjobconfig={'pw_berry':[('berry.in', '1'), ('berry-1.in', '1'), ('berry-2.in','1')],\n",
    "\t\t\t\t\t\t 'pw_noncolin':[('noncolin.in' ,'1'), ('noncolin-1.in' ,'1'), ('noncolin-2.in' ,'1'), ('noncolin-cg.in' ,'1'), ('noncolin-rmm.in','1'), \n",
    "\t\t\t\t\t\t\t\t\t\t\t('noncolin-constrain_angle.in' ,'1'), ('noncolin-constrain_atomic.in' ,'1'), ('noncolin-constrain_total.in' ,'1'), \n",
    "\t\t\t\t\t\t\t\t\t\t\t('noncolin-hyb.in' ,'1'), ('noncolin-pbe.in','1')  ],\n",
    "\t\t\t\t\t\t 'pw_metal': [ ('metal.in' ,'1'), ('metal-2.in' ,'1'), ('metal-fermi_dirac.in' ,'1'), ('metal-gaussian.in' ,'1'), ('metal-tetrahedra.in' ,'1'),\n",
    "\t\t\t\t\t\t\t\t\t\t ('metal-tetrahedra-1.in' ,'1'), ('metal-tetrahedra-2.in','1') ],\n",
    "\t\t\t\t\t\t 'pw_electric': [('electric.in' ,'1'), ('electric-1.in' ,'1'), ('electric-2.in' ,'1')],\n",
    "\t\t\t\t\t\t 'pw_twochem': [('scf_twochem.in', '1'), ('nscf_twochem.in','2'), ('relax_twochem.in','1'), ('vc-relax_twochem.in','1') ],\n",
    "\t\t\t\t\t\t 'pw_spinorbit':[ ('spinorbit.in' ,'1'), ('spinorbit-1.in' ,'1'), ('spinorbit-3.in' ,'1'), ('spinorbit-pbe.in' ,'1'), \n",
    "\t\t\t\t\t\t\t\t\t\t\t ('spinorbit-paw.in','1') ],\n",
    "\t\t\t\t\t\t 'pw_uspp': [ ('uspp.in' ,'1'), ('uspp-2.in' ,'1'), ('uspp-cg.in' ,'1'), ('uspp-cg-gamma.in' ,'1'), ('uspp-hyb-g.in' ,'1'),\n",
    "\t\t\t\t\t\t\t\t\t  ('uspp-hyb-k.in','1'), ('uspp-mixing_TF.in' ,'1'), ('uspp-mixing_localTF.in' ,'1'), ('uspp-mixing_ndim.in' ,'1'), \n",
    "\t\t\t\t\t\t\t\t\t\t('uspp-singlegrid.in' ,'1'), ('uspp1-coulomb.in' ,'1'), ('uspp1.in' ,'1'), ('uspp2.in' ,'1'), ('uspp-paro-gamma.in','1'), \n",
    "\t\t\t\t\t\t\t\t\t\t('uspp-paro-k.in','1'), ('uspp-ppcg-gamma.in','1'), ('uspp-ppcg-k.in','1')  ],\n",
    "\t\t\t\t\t\t 'pw_electric' : [ ('electric.in' ,'1'), ('electric-1.in' ,'1'), ('electric-2.in' ,'1') ],\n",
    "\t\t\t\t\t\t 'pw_scf'      : [ ('scf.in' ,'1'), ('scf-1.in' ,'1'), ('scf-2.in' ,'1'), ('scf-allfrac.in' ,'1'), ('scf-cg.in' ,'1'), \n",
    "\t\t\t\t\t\t                   ('scf-cg-gamma.in' ,'1'), ('scf-disk_io.in' ,'1'), ('scf-disk_io-1.in' ,'1'), ('scf-disk_io-2.in' ,'1'), ('scf-gamma.in' ,'1'),\n",
    "\t\t\t\t\t\t\t\t\t\t   ('scf-k0.in' ,'1'), ('scf-kauto.in' ,'1'), ('scf-kcrys.in' ,'1'), ('scf-mixing_TF.in' ,'1'), ('scf-mixing_beta.in' ,'1'), \n",
    "\t\t\t\t\t\t\t\t\t\t   ('scf-mixing_localTF.in' ,'1'), ('scf-mixing_ndim.in' ,'1'), ('scf-ncpp.in' ,'1'), ('scf-nofrac.in' ,'1'), ('scf-occ.in' ,'1'), \n",
    "\t\t\t\t\t\t\t\t\t\t   ('scf-paro-gamma.in','1'), ('scf-paro-k.in','1'), ('scf-rmm-gamma.in','1'), ('scf-rmm-paro-gamma.in','1'), ('scf-rmm-k.in','1'), \n",
    "\t\t\t\t\t\t\t\t\t\t   ('scf-rmm-paro-k.in','1'), ('scf-ppcg-gamma.in','1'), ('scf-ppcg-k.in','1'), ('scf-gth.in','1')  ]\n",
    "\t\t\t\t\t\t}\n",
    "\tprint (subdir.name)\n",
    "\tif subdir.name in jobconfig.keys():\n",
    "\t\treturn jobconfig[subdir.name]\n",
    "\telse:\n",
    "\t\treturn [(file,1) for file in subdir.glob('*.in') if not file.name.startswith('benchmark')]"
   ]
  },
  {
   "cell_type": "code",
   "execution_count": null,
   "metadata": {},
   "outputs": [],
   "source": [
    "from pathlib import Path\n",
    "directory = Path('/scratch/pdelugas/qe_gitlab/test-suite')\n",
    "outdir = directory\n",
    "results = [\n",
    "\tprocess_file(file, arg1, subdir, schema, outdir)\n",
    "\tfor subdir in [_ for _ in directory.glob('pw_atom')] \n",
    "\tfor file, arg1 in  input_args(subdir) \n",
    "]\n",
    "\n",
    "issues = [result for result in results if result is not None]"
   ]
  },
  {
   "cell_type": "code",
   "execution_count": 21,
   "metadata": {},
   "outputs": [],
   "source": [
    "from datetime import datetime \n",
    "date = datetime.today()\n",
    "y,d,h,m,s = date.year, date.day, date.hour, date.minute, date.second\n",
    "with open(f'issues_{y}_{d}_{h}_{m}_{s}.pkl', 'wb') as f:\n",
    "\tpickle.dump([_[0] for _ in issues], f)"
   ]
  },
  {
   "cell_type": "code",
   "execution_count": 22,
   "metadata": {},
   "outputs": [],
   "source": [
    "\n",
    "def filter_cases(cases, message):\n",
    "    return [case for case in cases\n",
    "            if True in [message in _\n",
    "                        for _ in [__.msg for __ in case[1][0]]\n",
    "                        ]\n",
    "    ]\n",
    "def extract_issues(cases):\n",
    "    from itertools import chain\n",
    "    return set([msg  for msg in [msg_ for msg_ in [__[1][0][0].msg for __ in cases]]])\n",
    "               "
   ]
  },
  {
   "cell_type": "code",
   "execution_count": null,
   "metadata": {},
   "outputs": [],
   "source": [
    "extract_issues(issues)"
   ]
  }
 ],
 "metadata": {
  "kernelspec": {
   "display_name": ".venv",
   "language": "python",
   "name": "python3"
  },
  "language_info": {
   "codemirror_mode": {
    "name": "ipython",
    "version": 3
   },
   "file_extension": ".py",
   "mimetype": "text/x-python",
   "name": "python",
   "nbconvert_exporter": "python",
   "pygments_lexer": "ipython3",
   "version": "3.12.3"
  }
 },
 "nbformat": 4,
 "nbformat_minor": 2
}
